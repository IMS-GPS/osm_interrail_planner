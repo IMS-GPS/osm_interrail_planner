{
 "cells": [
  {
   "cell_type": "markdown",
   "id": "numerical-preview",
   "metadata": {},
   "source": [
    "# OSM data download"
   ]
  },
  {
   "cell_type": "code",
   "execution_count": 3,
   "id": "copyrighted-entry",
   "metadata": {},
   "outputs": [
    {
     "data": {
      "text/plain": [
       "'\\n        ## this sets our output format\\n        [out:json]; \\n\\n        ## this defines our search area\\n        area(3600000000 + id of the land)->.searchArea; \\n\\n        ## parenthesis performs a union of the following retrieved data\\n        (\\n        node[\"key\"=\"value\"](area.searchArea);\\n        way[\"key\"=\"value\"](area.searchArea);\\n        relation[\"key\"=\"value\"](area.searchArea);\\n        );\\n\\n        ## here we subset our union just to contain way(), node(), relation()\\n        way(r);\\n\\n        ## this somehow gets the coordinates\\n        (._;>;); \\n\\n        ## important statement to set an output\\n        out geom; \\n'"
      ]
     },
     "execution_count": 3,
     "metadata": {},
     "output_type": "execute_result"
    }
   ],
   "source": [
    "# This is an exapmle structure of a query we send to the Overpass API\n",
    "\"\"\"\n",
    "        ## this sets our output format\n",
    "        [out:json]; \n",
    "\n",
    "        ## this defines our search area\n",
    "        area(3600000000 + id of the land)->.searchArea; \n",
    "\n",
    "        ## parenthesis performs a union of the following retrieved data\n",
    "        (\n",
    "        node[\"key\"=\"value\"](area.searchArea);\n",
    "        way[\"key\"=\"value\"](area.searchArea);\n",
    "        relation[\"key\"=\"value\"](area.searchArea);\n",
    "        );\n",
    "\n",
    "        ## here we subset our union just to contain way(), node(), relation()\n",
    "        way(r);\n",
    "\n",
    "        ## this somehow gets the coordinates\n",
    "        (._;>;); \n",
    "\n",
    "        ## important statement to set an output\n",
    "        out geom; \n",
    "\"\"\""
   ]
  },
  {
   "cell_type": "markdown",
   "id": "outer-typing",
   "metadata": {},
   "source": [
    "## Requests"
   ]
  },
  {
   "cell_type": "code",
   "execution_count": 4,
   "id": "experimental-warning",
   "metadata": {},
   "outputs": [],
   "source": [
    "import requests\n",
    "import json\n",
    "\n",
    "# This is the URL where our query is send to\n",
    "overpass_url = \"http://overpass-api.de/api/interpreter\"\n",
    "\n",
    "# This is our query we send to Overpass API for the stations: All stations also including subway stations\n",
    "overpass_query_stations = \"\"\"\n",
    "    // set output to json file\n",
    "    [out:json];\n",
    "    // set search area to Portugal\n",
    "    ( area[name=\"Portugal\"]; )->.searchArea;\n",
    "    // perform union with parenthesis\n",
    "    (\n",
    "      // AND statement by [key1=value1](and)[key2=value2]\n",
    "    node[\"railway\"=\"stop\"][\"subway\"!=\"yes\"][\"station\"!=\"subway\"][\"station\"!=\"light_rail\"][\"light_rail\"!=\"yes\"](area.searchArea);\n",
    "    node[\"railway\"=\"station\"][\"subway\"!=\"yes\"][\"station\"!=\"subway\"][\"station\"!=\"light_rail\"][\"light_rail\"!=\"yes\"](area.searchArea);\n",
    "    node[\"public_transport\"=\"stop_position\"][\"train\"=\"yes\"][\"subway\"!=\"yes\"][\"station\"!=\"subway\"][\"station\"!=\"light_rail\"][\"light_rail\"!=\"yes\"](area.searchArea);\n",
    "    );\n",
    "    (._;);\n",
    "    out geom;\n",
    "    \"\"\"\n",
    "# This is our query we send to Overpass API for the railways: \n",
    "# railway=rail or railway=narrow_guage, when tag usage then NOT industrial, military, tourism, freight\n",
    "overpass_query_rails = \"\"\"\n",
    "    // set output to json file\n",
    "    [out:json];\n",
    "    // set search area to Portugal\n",
    "    ( area[name=\"Portugal\"]; )->.searchArea;\n",
    "    // perform union with parenthesis (unionpart1; unionpart2)\n",
    "    (\n",
    "        // AND statement by [key1=value1](and)[key2=value2]\n",
    "    way[\"railway\"=\"narrow_gauge\"][\"usage\"!=\"military\"][\"usage\"!=\"industrial\"][\"usage\"!=\"freight\"][\"usage\"!=\"tourism\"](area.searchArea);\n",
    "    way[\"railway\"=\"rail\"][\"usage\"!=\"military\"][\"usage\"!=\"industrial\"][\"usage\"!=\"freight\"][\"usage\"!=\"tourism\"](area.searchArea);\n",
    "    );\n",
    "    (._;);\n",
    "    out geom;\n",
    "    \"\"\"\n",
    "\n"
   ]
  },
  {
   "cell_type": "markdown",
   "id": "adapted-student",
   "metadata": {},
   "source": [
    "## Download and check data"
   ]
  },
  {
   "cell_type": "code",
   "execution_count": 5,
   "id": "green-dress",
   "metadata": {},
   "outputs": [],
   "source": [
    "def get_data(query: str):\n",
    "    \"\"\"\n",
    "    This function sends the query for the OSM Overpass API in string format and gives back a JSON response object\n",
    "    Args:\n",
    "        query: str = Query in string format of Overpass query language\n",
    "    Returns: \n",
    "        A response data object in json format containing OSM data\n",
    "    \"\"\"\n",
    "    response = requests.get(overpass_url, params={'data': query})\n",
    "    return response.json()"
   ]
  },
  {
   "cell_type": "markdown",
   "id": "absent-compilation",
   "metadata": {},
   "source": [
    "railway rails"
   ]
  },
  {
   "cell_type": "code",
   "execution_count": 6,
   "id": "celtic-liverpool",
   "metadata": {},
   "outputs": [
    {
     "name": "stdout",
     "output_type": "stream",
     "text": [
      "Type of railway rails: <class 'dict'>\n",
      "\n",
      "Example of one railway rail: \n",
      " {'type': 'way', 'id': 4246983, 'bounds': {'minlat': 38.8880266, 'minlon': -9.0360783, 'maxlat': 38.8898715, 'maxlon': -9.0340947}, 'nodes': [1146585641, 25398728, 1146583996], 'geometry': [{'lat': 38.8898715, 'lon': -9.0340947}, {'lat': 38.8888339, 'lon': -9.0352147}, {'lat': 38.8880266, 'lon': -9.0360783}], 'tags': {'electrified': 'contact_line', 'frequency': '50', 'gauge': '1668', 'maxspeed': '190', 'maxspeed:source': 'Estimated at 190 km/h. It is in the category > 160 Km/h <= 220 Km/h according to https://www.infraestruturasdeportugal.pt/sites/default/files/files/files/diretorio_da_rede_2020_0.pdf', 'name': 'Linha 3 (Alverca)', 'passenger_lines': '4', 'railway': 'rail', 'railway:atc': 'yes', 'source': 'Bing', 'tracks': '1', 'usage': 'main', 'voltage': '25000'}}\n"
     ]
    }
   ],
   "source": [
    "railway_rails = get_data(overpass_query_rails)\n",
    "print('Type of railway rails:', type(railway_rails))\n",
    "print('\\nExample of one railway rail: \\n',railway_rails['elements'][0])"
   ]
  },
  {
   "cell_type": "markdown",
   "id": "about-protest",
   "metadata": {},
   "source": [
    "railway stations"
   ]
  },
  {
   "cell_type": "code",
   "execution_count": 7,
   "id": "prompt-preference",
   "metadata": {},
   "outputs": [
    {
     "name": "stdout",
     "output_type": "stream",
     "text": [
      "Type of railway stations: <class 'dict'>\n",
      "\n",
      "Example of one railway station: \n",
      " {'type': 'node', 'id': 24984214, 'lat': 38.609897, 'lon': -9.1015513, 'tags': {'local_ref': '2', 'name': 'Fogueteiro', 'public_transport': 'stop_position', 'railway': 'stop', 'train': 'yes', 'wikidata': 'Q8779789', 'wikipedia': 'pt:Estação Ferroviária de Fogueteiro'}}\n"
     ]
    }
   ],
   "source": [
    "railway_stations = get_data(overpass_query_stations)\n",
    "print('Type of railway stations:', type(railway_stations))\n",
    "print('\\nExample of one railway station: \\n',railway_stations['elements'][0])"
   ]
  },
  {
   "cell_type": "markdown",
   "id": "authentic-cornwall",
   "metadata": {},
   "source": [
    "## Save as json and geojson"
   ]
  },
  {
   "cell_type": "code",
   "execution_count": 8,
   "id": "critical-namibia",
   "metadata": {},
   "outputs": [],
   "source": [
    "import osm2geojson as o2g\n",
    "import geojson\n",
    "import os\n",
    "\n",
    "def save_as_json_geojson(overpass_json, filename):\n",
    "    \"\"\"This function saves the overpass query results in folder original in json format in a json file and geojson file\n",
    "    Arg:\n",
    "        overpass_json = Json format of the Overpass result\n",
    "        filename: str = Filename for the saving the files\n",
    "    Return:\n",
    "        .\\original\\filename.json\n",
    "        .\\original\\filename.geojson\n",
    "    \"\"\"\n",
    "    # Create a new folder .\\original if it doesnÄt exist so far\n",
    "    if os.path.exists(\"original\") == False:\n",
    "        os.mkdir(\"original\")\n",
    "    # Save as normal json file\n",
    "    with open(f\"original\\\\{filename}.json\",mode=\"w\") as file1:\n",
    "        geojson.dump(overpass_json,file1)\n",
    "    # Save as geojson file\n",
    "    overpass_geojson = o2g.json2geojson(overpass_json) ## convert to a geojson\n",
    "    with open(f\"original\\\\{filename}.geojson\",mode=\"w\") as file2:\n",
    "        geojson.dump(overpass_geojson,file2)\n",
    "    return None"
   ]
  },
  {
   "cell_type": "code",
   "execution_count": 9,
   "id": "convenient-difficulty",
   "metadata": {},
   "outputs": [],
   "source": [
    "# Save railway_stations\n",
    "save_as_json_geojson(railway_stations, 'railway_stations')\n",
    "\n",
    "# Save railway_rails\n",
    "save_as_json_geojson(railway_rails, 'railway_rails')"
   ]
  },
  {
   "cell_type": "code",
   "execution_count": null,
   "id": "concrete-trick",
   "metadata": {},
   "outputs": [],
   "source": []
  },
  {
   "cell_type": "code",
   "execution_count": null,
   "id": "combined-accordance",
   "metadata": {},
   "outputs": [],
   "source": []
  }
 ],
 "metadata": {
  "kernelspec": {
   "display_name": "Python 3",
   "language": "python",
   "name": "python3"
  },
  "language_info": {
   "codemirror_mode": {
    "name": "ipython",
    "version": 3
   },
   "file_extension": ".py",
   "mimetype": "text/x-python",
   "name": "python",
   "nbconvert_exporter": "python",
   "pygments_lexer": "ipython3",
   "version": "3.9.1"
  }
 },
 "nbformat": 4,
 "nbformat_minor": 5
}
