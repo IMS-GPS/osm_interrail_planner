{
 "cells": [
  {
   "cell_type": "markdown",
   "id": "decent-mileage",
   "metadata": {},
   "source": [
    "# Data transformation"
   ]
  },
  {
   "cell_type": "markdown",
   "id": "continental-timothy",
   "metadata": {},
   "source": [
    "## Input data railway_rails, railways_stations from original folder"
   ]
  },
  {
   "cell_type": "code",
   "execution_count": 4,
   "id": "personal-review",
   "metadata": {},
   "outputs": [
    {
     "output_type": "error",
     "ename": "ModuleNotFoundError",
     "evalue": "No module named 'geojson'",
     "traceback": [
      "\u001b[1;31m---------------------------------------------------------------------------\u001b[0m",
      "\u001b[1;31mModuleNotFoundError\u001b[0m                       Traceback (most recent call last)",
      "\u001b[1;32m<ipython-input-4-74622da84117>\u001b[0m in \u001b[0;36m<module>\u001b[1;34m\u001b[0m\n\u001b[1;32m----> 1\u001b[1;33m \u001b[1;32mimport\u001b[0m \u001b[0mgeojson\u001b[0m\u001b[1;33m\u001b[0m\u001b[1;33m\u001b[0m\u001b[0m\n\u001b[0m\u001b[0;32m      2\u001b[0m \u001b[1;32mimport\u001b[0m \u001b[0mjson\u001b[0m\u001b[1;33m\u001b[0m\u001b[1;33m\u001b[0m\u001b[0m\n\u001b[0;32m      3\u001b[0m \u001b[1;33m\u001b[0m\u001b[0m\n\u001b[0;32m      4\u001b[0m \u001b[1;32mdef\u001b[0m \u001b[0mopen_json\u001b[0m\u001b[1;33m(\u001b[0m\u001b[0mfilename\u001b[0m\u001b[1;33m)\u001b[0m\u001b[1;33m:\u001b[0m\u001b[1;33m\u001b[0m\u001b[1;33m\u001b[0m\u001b[0m\n\u001b[0;32m      5\u001b[0m     \"\"\"\n",
      "\u001b[1;31mModuleNotFoundError\u001b[0m: No module named 'geojson'"
     ]
    }
   ],
   "source": [
    "import geojson\n",
    "import json\n",
    "\n",
    "def open_json(filename):\n",
    "    \"\"\"\n",
    "    This function loads in the json file stored by osm_download\n",
    "    Args:\n",
    "    filename:str = Filename where the data is stored\n",
    "    Returns:\n",
    "    A json file in dictionary format\n",
    "    \"\"\"\n",
    "    with open(f\"original\\\\{filename}\") as file1:\n",
    "        data = json.load(file1)\n",
    "    return data"
   ]
  },
  {
   "cell_type": "code",
   "execution_count": 5,
   "id": "helpful-congo",
   "metadata": {},
   "outputs": [
    {
     "output_type": "error",
     "ename": "NameError",
     "evalue": "name 'open_json' is not defined",
     "traceback": [
      "\u001b[1;31m---------------------------------------------------------------------------\u001b[0m",
      "\u001b[1;31mNameError\u001b[0m                                 Traceback (most recent call last)",
      "\u001b[1;32m<ipython-input-5-85a9dc6c0c3e>\u001b[0m in \u001b[0;36m<module>\u001b[1;34m\u001b[0m\n\u001b[1;32m----> 1\u001b[1;33m \u001b[0mrailway_stations\u001b[0m \u001b[1;33m=\u001b[0m \u001b[0mopen_json\u001b[0m\u001b[1;33m(\u001b[0m\u001b[1;34m'railway_stations.json'\u001b[0m\u001b[1;33m)\u001b[0m\u001b[1;33m\u001b[0m\u001b[1;33m\u001b[0m\u001b[0m\n\u001b[0m\u001b[0;32m      2\u001b[0m \u001b[0mrailway_rails\u001b[0m \u001b[1;33m=\u001b[0m \u001b[0mopen_json\u001b[0m\u001b[1;33m(\u001b[0m\u001b[1;34m'railway_rails.json'\u001b[0m\u001b[1;33m)\u001b[0m\u001b[1;33m\u001b[0m\u001b[1;33m\u001b[0m\u001b[0m\n",
      "\u001b[1;31mNameError\u001b[0m: name 'open_json' is not defined"
     ]
    }
   ],
   "source": [
    "railway_stations = open_json('railway_stations.json')\n",
    "railway_rails = open_json('railway_rails.json')"
   ]
  },
  {
   "cell_type": "markdown",
   "id": "green-storm",
   "metadata": {},
   "source": [
    "## Conversion Overpass JSON to geopandas geodataframe"
   ]
  },
  {
   "cell_type": "markdown",
   "id": "editorial-spelling",
   "metadata": {},
   "source": [
    "The conversion creates a geometry column and also columns for the desired tags"
   ]
  },
  {
   "cell_type": "code",
   "execution_count": 6,
   "id": "physical-independence",
   "metadata": {},
   "outputs": [],
   "source": [
    "# Besides the geometry columns we want to extract attributes of the OSM tags and store them in columns\n",
    "# Therefore this function creates dictionaries for each tag and is afterwards implemented in the big conversion function\n",
    "def append_tags(element, new_element, desired_tags: list):\n",
    "    \"\"\"\n",
    "    This function takes the desired tags and create a dictionary for every tag. \n",
    "    This dictionary is appended to an element of the conversion from Overpass json to gpd.geodataframe.\n",
    "    Therefore each single dictionary gets its own coloumn\n",
    "    \n",
    "    Args:\n",
    "        element: old element dictionary to take the information from\n",
    "        new_element: new element dictionary to write the information in \n",
    "        desired_tags: list[str] list of strings containing the desired tags as columns in the gpd.gdf\n",
    "    Return:\n",
    "        new_element: dictionary with new tags\n",
    "    \"\"\"\n",
    "    # Make a for loop for every tag in the list desired tags\n",
    "    for tag in desired_tags:\n",
    "        # condition: There must be a dictionary with tags AND the desired tag in it\n",
    "        if ('tags' in element.keys()) and (tag in element['tags'].keys()): \n",
    "            new_element[tag] = element['tags'][tag]\n",
    "        else:\n",
    "            new_element[tag] = None\n",
    "    return new_element\n"
   ]
  },
  {
   "cell_type": "code",
   "execution_count": 8,
   "id": "quiet-prevention",
   "metadata": {},
   "outputs": [
    {
     "output_type": "error",
     "ename": "ModuleNotFoundError",
     "evalue": "No module named 'shapely'",
     "traceback": [
      "\u001b[1;31m---------------------------------------------------------------------------\u001b[0m",
      "\u001b[1;31mModuleNotFoundError\u001b[0m                       Traceback (most recent call last)",
      "\u001b[1;32m<ipython-input-8-5663771f53b9>\u001b[0m in \u001b[0;36m<module>\u001b[1;34m\u001b[0m\n\u001b[0;32m      1\u001b[0m \u001b[1;31m# Implement into the previous big function overpass_json_to_gpd_gdf()\u001b[0m\u001b[1;33m\u001b[0m\u001b[1;33m\u001b[0m\u001b[1;33m\u001b[0m\u001b[0m\n\u001b[0;32m      2\u001b[0m \u001b[1;33m\u001b[0m\u001b[0m\n\u001b[1;32m----> 3\u001b[1;33m \u001b[1;32mimport\u001b[0m \u001b[0mshapely\u001b[0m\u001b[1;33m.\u001b[0m\u001b[0mgeometry\u001b[0m \u001b[1;32mas\u001b[0m \u001b[0msg\u001b[0m\u001b[1;33m\u001b[0m\u001b[1;33m\u001b[0m\u001b[0m\n\u001b[0m\u001b[0;32m      4\u001b[0m \u001b[1;32mimport\u001b[0m \u001b[0mgeopandas\u001b[0m \u001b[1;32mas\u001b[0m \u001b[0mgpd\u001b[0m\u001b[1;33m\u001b[0m\u001b[1;33m\u001b[0m\u001b[0m\n\u001b[0;32m      5\u001b[0m \u001b[1;33m\u001b[0m\u001b[0m\n",
      "\u001b[1;31mModuleNotFoundError\u001b[0m: No module named 'shapely'"
     ]
    }
   ],
   "source": [
    "# Implement into the previous big function overpass_json_to_gpd_gdf()\n",
    "\n",
    "import shapely.geometry as sg\n",
    "import geopandas as gpd\n",
    "\n",
    "def overpass_json_to_gpd_gdf(overpass_json, desired_tags):\n",
    "    \"\"\"\n",
    "        This function takes a overpass json file containing nodes or ways and transforms it \n",
    "        into an geopandas geodataframe\n",
    "        \n",
    "        Args:\n",
    "            desired_tags: list[str] containing tags to be new column in gpd.gdf\n",
    "            \n",
    "            overpass_json: a json dictionary containing a list of elements (noded or ways)\n",
    "            \n",
    "            For node elements each element is structured as following:\n",
    "            [\n",
    "             first_element,\n",
    "             # this is an element:\n",
    "             {'type': 'node', \n",
    "              'id': 25414208, \n",
    "              'lat': 38.7404678, \n",
    "              'lon': -9.1656799, \n",
    "              'tags': {'local_ref': '3',...},\n",
    "             },\n",
    "             last_element\n",
    "             ]\n",
    "             \n",
    "            For the ways each element is structured as following:\n",
    "            [\n",
    "            first_element,\n",
    "            # this is an element\n",
    "            {'type': 'way',\n",
    "             'geometry': [{'lat': lat, 'lon': lon}, {'lat': lat, 'lon': lon}],\n",
    "             'tags': {'maxspeed': '190', ...}\n",
    "            },\n",
    "             last_element\n",
    "            ]\n",
    "            \n",
    "        Returns:\n",
    "            gpd.gdf: a geopandas geodataframe \n",
    "            \n",
    "            Based on the conversion from a following list of dictionaries:\n",
    "            [first_ element,\n",
    "             # this is an element\n",
    "             {'geometry': shape.object,\n",
    "              'desired_tag1': 'value1',\n",
    "              'desired_tag2': 'value2'\n",
    "             },\n",
    "             last_element\n",
    "             ]\n",
    "    \"\"\"\n",
    "\n",
    "    new_data = []\n",
    "    for element in overpass_json['elements']:\n",
    "        # create a new element dictionary which stands for one element\n",
    "        new_element = {}\n",
    "        \n",
    "        # 1. This first part is for nodes of OSM\n",
    "        if element['type'] == 'node':\n",
    "            # create a new_geometry dictionary\n",
    "            # data structure for new_geometry to be shaped with function shapely.geometry.shape() afterwards\n",
    "            \"\"\"\n",
    "            [{\n",
    "                'type': 'Point',\n",
    "                'coordinates': (lon, lat)\n",
    "            }]\n",
    "            \"\"\"\n",
    "            new_geometry = {}\n",
    "            # change 'type' to 'Point'\n",
    "            new_geometry['type'] = 'Point'\n",
    "            # create a new geometry point as tuple (lat, lon)    \n",
    "            lon = element['lon']\n",
    "            lat = element['lat']\n",
    "            geometry = [(lon, lat)]\n",
    "            new_geometry['coordinates'] = geometry\n",
    "        \n",
    "        # 2. This second part is for ways of OSM\n",
    "        if element['type'] == 'way':\n",
    "            # create a new_geometry dictionary\n",
    "            # data structure for new_geometry to be shaped with function shapely.geometry.shape() afterwards\n",
    "            \"\"\"\n",
    "            [{\n",
    "                'type': 'LineString',\n",
    "                'coordinates': [(lon, lat), (lon, lat)]\n",
    "            }]\n",
    "            \"\"\"\n",
    "            new_geometry = {}\n",
    "            # change 'type' to 'LineString'\n",
    "            new_geometry['type'] = 'Linestring'\n",
    "            # create a list of geometries\n",
    "            geometry = [] \n",
    "            for node in element['geometry']:\n",
    "                lon = node['lon']\n",
    "                lat = node['lat']\n",
    "                geometry.append((lon, lat))\n",
    "            new_geometry['coordinates'] = geometry\n",
    "            \n",
    "        # shape the new_geometry {'type': 'Linestring OR Point', 'coordinates': [(lat, lon) OR, (lat, lon)]} \n",
    "        # and append it as under the tag 'geometry' in the new_element dictionary\n",
    "        new_element['geometry'] = sg.shape(new_geometry)\n",
    "\n",
    "        # append atribute tags if available\n",
    "        append_tags(element, new_element, desired_tags)\n",
    "\n",
    "        # append each single new element (dict) to the new list of new elements [dict1, dict2]\n",
    "        new_data.append(new_element)\n",
    "    \n",
    "    #transform it to a gpd geodataframe\n",
    "    return gpd.GeoDataFrame(new_data, crs=\"EPSG:4326\")"
   ]
  },
  {
   "cell_type": "markdown",
   "id": "first-anime",
   "metadata": {},
   "source": [
    "Check the functions"
   ]
  },
  {
   "cell_type": "code",
   "execution_count": 5,
   "id": "integral-employment",
   "metadata": {},
   "outputs": [
    {
     "data": {
      "text/html": [
       "<div>\n",
       "<style scoped>\n",
       "    .dataframe tbody tr th:only-of-type {\n",
       "        vertical-align: middle;\n",
       "    }\n",
       "\n",
       "    .dataframe tbody tr th {\n",
       "        vertical-align: top;\n",
       "    }\n",
       "\n",
       "    .dataframe thead th {\n",
       "        text-align: right;\n",
       "    }\n",
       "</style>\n",
       "<table border=\"1\" class=\"dataframe\">\n",
       "  <thead>\n",
       "    <tr style=\"text-align: right;\">\n",
       "      <th></th>\n",
       "      <th>geometry</th>\n",
       "      <th>name</th>\n",
       "      <th>network</th>\n",
       "    </tr>\n",
       "  </thead>\n",
       "  <tbody>\n",
       "    <tr>\n",
       "      <th>0</th>\n",
       "      <td>POINT (-9.10155 38.60990)</td>\n",
       "      <td>Fogueteiro</td>\n",
       "      <td>None</td>\n",
       "    </tr>\n",
       "    <tr>\n",
       "      <th>1</th>\n",
       "      <td>POINT (-9.16568 38.74047)</td>\n",
       "      <td>Sete Rios</td>\n",
       "      <td>CP;Fertagus</td>\n",
       "    </tr>\n",
       "    <tr>\n",
       "      <th>2</th>\n",
       "      <td>POINT (-9.10320 38.74623)</td>\n",
       "      <td>Braço de Prata</td>\n",
       "      <td>None</td>\n",
       "    </tr>\n",
       "    <tr>\n",
       "      <th>3</th>\n",
       "      <td>POINT (-9.10243 38.74785)</td>\n",
       "      <td>Braço de Prata</td>\n",
       "      <td>None</td>\n",
       "    </tr>\n",
       "    <tr>\n",
       "      <th>4</th>\n",
       "      <td>POINT (-8.61662 40.86398)</td>\n",
       "      <td>Ovar</td>\n",
       "      <td>None</td>\n",
       "    </tr>\n",
       "  </tbody>\n",
       "</table>\n",
       "</div>"
      ],
      "text/plain": [
       "                    geometry            name      network\n",
       "0  POINT (-9.10155 38.60990)      Fogueteiro         None\n",
       "1  POINT (-9.16568 38.74047)       Sete Rios  CP;Fertagus\n",
       "2  POINT (-9.10320 38.74623)  Braço de Prata         None\n",
       "3  POINT (-9.10243 38.74785)  Braço de Prata         None\n",
       "4  POINT (-8.61662 40.86398)            Ovar         None"
      ]
     },
     "execution_count": 5,
     "metadata": {},
     "output_type": "execute_result"
    }
   ],
   "source": [
    "gdf_stations = overpass_json_to_gpd_gdf(railway_stations, ['name', 'network'])\n",
    "gdf_stations.head()"
   ]
  },
  {
   "cell_type": "code",
   "execution_count": 6,
   "id": "passive-progressive",
   "metadata": {},
   "outputs": [
    {
     "data": {
      "text/html": [
       "<div>\n",
       "<style scoped>\n",
       "    .dataframe tbody tr th:only-of-type {\n",
       "        vertical-align: middle;\n",
       "    }\n",
       "\n",
       "    .dataframe tbody tr th {\n",
       "        vertical-align: top;\n",
       "    }\n",
       "\n",
       "    .dataframe thead th {\n",
       "        text-align: right;\n",
       "    }\n",
       "</style>\n",
       "<table border=\"1\" class=\"dataframe\">\n",
       "  <thead>\n",
       "    <tr style=\"text-align: right;\">\n",
       "      <th></th>\n",
       "      <th>geometry</th>\n",
       "      <th>maxspeed</th>\n",
       "      <th>name</th>\n",
       "    </tr>\n",
       "  </thead>\n",
       "  <tbody>\n",
       "    <tr>\n",
       "      <th>0</th>\n",
       "      <td>LINESTRING (-9.03409 38.88987, -9.03521 38.888...</td>\n",
       "      <td>190</td>\n",
       "      <td>Linha 3 (Alverca)</td>\n",
       "    </tr>\n",
       "    <tr>\n",
       "      <th>1</th>\n",
       "      <td>LINESTRING (-9.10767 38.73436, -9.10704 38.735...</td>\n",
       "      <td>190</td>\n",
       "      <td>None</td>\n",
       "    </tr>\n",
       "    <tr>\n",
       "      <th>2</th>\n",
       "      <td>LINESTRING (-9.05349 38.87156, -9.05382 38.871...</td>\n",
       "      <td>190</td>\n",
       "      <td>Linha do Norte</td>\n",
       "    </tr>\n",
       "    <tr>\n",
       "      <th>3</th>\n",
       "      <td>LINESTRING (-9.04803 38.58256, -9.04901 38.583...</td>\n",
       "      <td>None</td>\n",
       "      <td>None</td>\n",
       "    </tr>\n",
       "    <tr>\n",
       "      <th>4</th>\n",
       "      <td>LINESTRING (-8.46391 39.52075, -8.46423 39.521...</td>\n",
       "      <td>None</td>\n",
       "      <td>Ramal de Tomar</td>\n",
       "    </tr>\n",
       "  </tbody>\n",
       "</table>\n",
       "</div>"
      ],
      "text/plain": [
       "                                            geometry maxspeed  \\\n",
       "0  LINESTRING (-9.03409 38.88987, -9.03521 38.888...      190   \n",
       "1  LINESTRING (-9.10767 38.73436, -9.10704 38.735...      190   \n",
       "2  LINESTRING (-9.05349 38.87156, -9.05382 38.871...      190   \n",
       "3  LINESTRING (-9.04803 38.58256, -9.04901 38.583...     None   \n",
       "4  LINESTRING (-8.46391 39.52075, -8.46423 39.521...     None   \n",
       "\n",
       "                name  \n",
       "0  Linha 3 (Alverca)  \n",
       "1               None  \n",
       "2     Linha do Norte  \n",
       "3               None  \n",
       "4     Ramal de Tomar  "
      ]
     },
     "execution_count": 6,
     "metadata": {},
     "output_type": "execute_result"
    }
   ],
   "source": [
    "gdf_rails = overpass_json_to_gpd_gdf(railway_rails, ['maxspeed', 'name'])\n",
    "gdf_rails.head()"
   ]
  },
  {
   "cell_type": "markdown",
   "id": "stuffed-population",
   "metadata": {},
   "source": [
    "The following code makes changes possible by making lines between single platform changes and adds it to the rails dataset"
   ]
  },
  {
   "cell_type": "markdown",
   "id": "proved-adapter",
   "metadata": {},
   "source": [
    "TODO: Write it into a function"
   ]
  },
  {
   "cell_type": "code",
   "execution_count": 1,
   "id": "operating-mozambique",
   "metadata": {},
   "outputs": [],
   "source": [
    "def connect_stations(Stations_gdf,Groupby_var,Rails_gdf):\n",
    "    \"\"\"\n",
    "    This function to conenct the stations points with the same name together in Linestring\n",
    "    Args:\n",
    "    Stations_gdf: Geo-DataFrame name(str) = The name of the Stations Geo-DataFrame\n",
    "    Groupby_var: str = The name of the station's name column inside the Stations Geo-DataFrame\n",
    "    Rails_gdf: Geo-DataFrame name(str) = The name of the Rails Geo-DataFrame\n",
    "    Returns:\n",
    "    Update the Geo-DataFrame of the rails with adding the Linstring created\n",
    "    \"\"\"\n",
    "    new_stations = Stations_gdf[['name','geometry']].groupby('name').count()\n",
    "    new_stations.columns = [\"count\"]\n",
    "    new_stations = new_stations[new_stations[\"count\"] > 1]\n",
    "    stations_list = list(new_stations.index)\n",
    "    for n in stations_list:\n",
    "        line_string = sg.LineString(list(Stations_gdf[Stations_gdf[Groupby_var] == n][\"geometry\"]))\n",
    "        x = dict(name = f\"{n}_change\", geometry = line_string)\n",
    "        Rails_gdf = Rails_gdf.append(x, ignore_index=True)\n",
    "    return(Rails_gdf)"
   ]
  },
  {
   "cell_type": "code",
   "execution_count": 2,
   "metadata": {},
   "outputs": [
    {
     "output_type": "error",
     "ename": "NameError",
     "evalue": "name 'gdf_stations' is not defined",
     "traceback": [
      "\u001b[1;31m---------------------------------------------------------------------------\u001b[0m",
      "\u001b[1;31mNameError\u001b[0m                                 Traceback (most recent call last)",
      "\u001b[1;32m<ipython-input-2-f11ed41fab25>\u001b[0m in \u001b[0;36m<module>\u001b[1;34m\u001b[0m\n\u001b[1;32m----> 1\u001b[1;33m \u001b[0mconnect_stations\u001b[0m\u001b[1;33m(\u001b[0m\u001b[0mgdf_stations\u001b[0m\u001b[1;33m,\u001b[0m\u001b[1;34m'name'\u001b[0m\u001b[1;33m,\u001b[0m\u001b[0mgdf_rails\u001b[0m\u001b[1;33m)\u001b[0m\u001b[1;33m\u001b[0m\u001b[1;33m\u001b[0m\u001b[0m\n\u001b[0m",
      "\u001b[1;31mNameError\u001b[0m: name 'gdf_stations' is not defined"
     ]
    }
   ],
   "source": [
    "connect_stations(gdf_stations,'name',gdf_rails)"
   ]
  },
  {
   "cell_type": "code",
   "execution_count": null,
   "id": "external-irish",
   "metadata": {},
   "outputs": [],
   "source": [
    "gdf_rails.tail(10)"
   ]
  },
  {
   "cell_type": "code",
   "execution_count": 10,
   "id": "meaningful-adelaide",
   "metadata": {},
   "outputs": [],
   "source": [
    "# save the GeoDataFrame as shapefile\n",
    "import os\n",
    "try:\n",
    "    os.mkdir(\"processed\")\n",
    "except:\n",
    "    pass\n",
    "\n",
    "try:\n",
    "    os.mkdir(\"processed\\\\railway_rails\")\n",
    "except:\n",
    "    pass\n",
    "\n",
    "try:\n",
    "    os.mkdir(\"processed\\\\railway_stations\")\n",
    "except:\n",
    "    pass\n",
    "\n",
    "gdf_rails.to_file(driver = 'ESRI Shapefile', filename= \"processed\\\\railway_rails\\\\railway_rails.shp\")\n",
    "gdf_stations.to_file(driver = 'ESRI Shapefile', filename= \"processed\\\\railway_stations\\\\railway_stations.shp\")"
   ]
  },
  {
   "cell_type": "code",
   "execution_count": null,
   "id": "pleasant-franklin",
   "metadata": {},
   "outputs": [],
   "source": []
  },
  {
   "cell_type": "code",
   "execution_count": null,
   "id": "minute-moscow",
   "metadata": {},
   "outputs": [],
   "source": []
  }
 ],
 "metadata": {
  "kernelspec": {
   "display_name": "Python 3",
   "language": "python",
   "name": "python3"
  },
  "language_info": {
   "codemirror_mode": {
    "name": "ipython",
    "version": 3
   },
   "file_extension": ".py",
   "mimetype": "text/x-python",
   "name": "python",
   "nbconvert_exporter": "python",
   "pygments_lexer": "ipython3",
   "version": "3.7.7-final"
  }
 },
 "nbformat": 4,
 "nbformat_minor": 5
}